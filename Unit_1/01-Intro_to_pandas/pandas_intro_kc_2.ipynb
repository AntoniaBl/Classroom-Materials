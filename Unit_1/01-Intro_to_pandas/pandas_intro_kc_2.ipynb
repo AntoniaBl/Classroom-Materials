{
 "cells": [
  {
   "cell_type": "markdown",
   "id": "06afb65c-c02e-4b40-b0da-6a847276b583",
   "metadata": {},
   "source": [
    "## Data wrangling/cleaning using Python:\n",
    "\n",
    "- Deleting columns\n",
    "- Rearranging columns\n",
    "- Filtering and subsetting"
   ]
  },
  {
   "cell_type": "code",
   "execution_count": null,
   "id": "5c762d70-6253-4680-ad5e-1dea6087c425",
   "metadata": {},
   "outputs": [],
   "source": [
    "import pandas as pd"
   ]
  },
  {
   "cell_type": "code",
   "execution_count": null,
   "id": "9ff3cf2e-6b67-43d8-a330-36f1de3c1580",
   "metadata": {},
   "outputs": [],
   "source": [
    "# to import a file into a pandas DataFrame\n",
    "data = pd.read_csv('merged_clean_ver1.csv')\n",
    "\n",
    "# to display the dataframe\n",
    "data"
   ]
  },
  {
   "cell_type": "code",
   "execution_count": null,
   "id": "86b8e10b-f816-4780-bbbe-8d5ce37b701a",
   "metadata": {},
   "outputs": [],
   "source": [
    "data.columns"
   ]
  },
  {
   "cell_type": "markdown",
   "id": "75a34f4d-7cbc-4579-89fe-1b9acde51241",
   "metadata": {},
   "source": [
    "### deleting columns"
   ]
  },
  {
   "cell_type": "code",
   "execution_count": null,
   "id": "7abafd87-c885-422f-b39c-724beace4b4d",
   "metadata": {},
   "outputs": [],
   "source": [
    "# deleting columns\n",
    "data = data.drop(['TCODE']) # Explain the argument axis, when axis is 0 and 1"
   ]
  },
  {
   "cell_type": "code",
   "execution_count": null,
   "id": "4d7507ba-e806-4522-a49c-55feb48b7b50",
   "metadata": {},
   "outputs": [],
   "source": [
    "data = data.drop(['TCODE'], axis=1) # hint: is TCODE present in columns?"
   ]
  },
  {
   "cell_type": "code",
   "execution_count": null,
   "id": "44d0a3d6-3060-46cb-a01b-edb421ad6783",
   "metadata": {},
   "outputs": [],
   "source": [
    "data = data.drop(['tcode'], axis=1)"
   ]
  },
  {
   "cell_type": "code",
   "execution_count": null,
   "id": "a7e47d13-134a-4fd8-93d4-f4ecf5a89a91",
   "metadata": {},
   "outputs": [],
   "source": [
    "data.columns"
   ]
  },
  {
   "cell_type": "markdown",
   "id": "0d3da026-5229-4570-83e8-0858f5487a2b",
   "metadata": {},
   "source": [
    "### Rearranging columns"
   ]
  },
  {
   "cell_type": "code",
   "execution_count": null,
   "id": "14ec79c4-606d-461f-8561-1c9a8b93e950",
   "metadata": {},
   "outputs": [],
   "source": [
    "# Rearranging columns\n",
    "data = data[['id', 'state', 'gender', 'median_home_val', 'median_household_income', 'ic2', 'ic3', 'ic4', 'ic5', 'avggift', 'domain', 'dob', 'target_d']]"
   ]
  },
  {
   "cell_type": "code",
   "execution_count": null,
   "id": "1524d4d1-b7cf-4f89-bdb8-b988fc61e262",
   "metadata": {},
   "outputs": [],
   "source": [
    "data"
   ]
  },
  {
   "cell_type": "markdown",
   "id": "c2cbd790-d47e-4723-a040-801f190965c9",
   "metadata": {},
   "source": [
    "### filtering and subsetting"
   ]
  },
  {
   "cell_type": "code",
   "execution_count": null,
   "id": "d2e17c01-924c-47a5-a35f-6044912a4668",
   "metadata": {},
   "outputs": [],
   "source": [
    "# filtering and subsetting -- using conditions with DataFrame\n",
    "data[data['gender']=='M']"
   ]
  },
  {
   "cell_type": "code",
   "execution_count": null,
   "id": "adf02cea-5525-4462-9729-1b30ecbd1747",
   "metadata": {},
   "outputs": [],
   "source": [
    "data[data['gender'].isin(['M', 'F'])]"
   ]
  },
  {
   "cell_type": "code",
   "execution_count": null,
   "id": "0ada5e54-5c52-4361-b3a3-ce4e21e50ed9",
   "metadata": {},
   "outputs": [],
   "source": [
    "data[(data['gender']=='M') | (data['gender']=='F')]"
   ]
  },
  {
   "cell_type": "code",
   "execution_count": null,
   "id": "7c99212b-c782-4dbe-82d3-5c880ae90656",
   "metadata": {},
   "outputs": [],
   "source": [
    "data[data['target_d']>100]"
   ]
  },
  {
   "cell_type": "markdown",
   "id": "89087deb-2244-49d6-bf5f-9b7cca2ddb24",
   "metadata": {},
   "source": [
    "## Key concepts - 3\n",
    "\n",
    "- Reset index\n",
    "- Working with indexes"
   ]
  },
  {
   "cell_type": "code",
   "execution_count": null,
   "id": "796f92d0-42cd-4be0-809f-c9e1577d84b5",
   "metadata": {},
   "outputs": [],
   "source": [
    "data"
   ]
  },
  {
   "cell_type": "markdown",
   "id": "5bb019c2-b066-4dbe-bd36-232137e81b36",
   "metadata": {},
   "source": [
    "### filter and reset the index"
   ]
  },
  {
   "cell_type": "code",
   "execution_count": null,
   "id": "51ded669-fbdb-47bf-9cd4-07e1e3420f38",
   "metadata": {},
   "outputs": [],
   "source": [
    "#filter and reset the index\n",
    "\n",
    "# In this section again emphasize on the importance of playing with the code and checking the output\n",
    "\n",
    "filtered = data[data['gender']=='M']  # Lets say that we are working on this filtered data"
   ]
  },
  {
   "cell_type": "code",
   "execution_count": null,
   "id": "d27c0059-a6ee-4e56-b4b2-17f883f7ca4b",
   "metadata": {},
   "outputs": [],
   "source": [
    "filtered"
   ]
  },
  {
   "cell_type": "code",
   "execution_count": null,
   "id": "a852eeda-c4fa-4410-9e1d-e740befa2b17",
   "metadata": {},
   "outputs": [],
   "source": [
    "# filtered\n",
    "filtered = filtered.reset_index(drop=True) # what will happen after resetting the index?"
   ]
  },
  {
   "cell_type": "code",
   "execution_count": null,
   "id": "794975fc-93c7-4ba5-b676-81158cd775ae",
   "metadata": {},
   "outputs": [],
   "source": [
    "filtered"
   ]
  },
  {
   "cell_type": "code",
   "execution_count": null,
   "id": "6bc8382e-ad59-41bb-8653-77c7b41ffbc2",
   "metadata": {},
   "outputs": [],
   "source": [
    "temp = filtered.copy()\n",
    "temp.set_index('state') # This is a dummy case, but indexes should be unique and not nulls, usually auto-increments by 1"
   ]
  },
  {
   "cell_type": "code",
   "execution_count": null,
   "id": "fc04dcdb-e856-459d-b35e-bd6f3995e752",
   "metadata": {},
   "outputs": [],
   "source": [
    "# Working with indexes\n",
    "filtered[1:4]"
   ]
  },
  {
   "cell_type": "code",
   "execution_count": null,
   "id": "3ecda7d3-a8d2-400e-801b-62eb854652d4",
   "metadata": {},
   "outputs": [],
   "source": [
    "filtered[['gender', 'ic2', 'ic3']][0:10]"
   ]
  },
  {
   "cell_type": "code",
   "execution_count": null,
   "id": "a12b77bc-9580-48dd-b460-c611d8a2f046",
   "metadata": {},
   "outputs": [],
   "source": [
    "filtered.loc[1:3]"
   ]
  },
  {
   "cell_type": "code",
   "execution_count": null,
   "id": "0adff0f6-ad3b-4aa1-a1fd-37afdfce06fa",
   "metadata": {},
   "outputs": [],
   "source": [
    "filtered.loc[100]"
   ]
  },
  {
   "cell_type": "code",
   "execution_count": null,
   "id": "6a3d1e99-80e5-408d-8218-ee1e26b9f10a",
   "metadata": {},
   "outputs": [],
   "source": [
    "filtered.iloc[1:3]"
   ]
  },
  {
   "cell_type": "code",
   "execution_count": null,
   "id": "076e1f97-76a1-40ab-8312-305bc35a83bb",
   "metadata": {},
   "outputs": [],
   "source": [
    "# now, working just on the indexes row,columns\n",
    "filtered.iloc[1:10,0:4]"
   ]
  },
  {
   "cell_type": "code",
   "execution_count": null,
   "id": "43ebc255-2f0f-4254-9c42-262a30f0fb73",
   "metadata": {},
   "outputs": [],
   "source": [
    "filtered.iloc[[1,2,3,4],[0,2,4]]"
   ]
  },
  {
   "cell_type": "markdown",
   "id": "d7e99337-5683-4aec-b91b-f11b694960b5",
   "metadata": {},
   "source": [
    "## Key concepts - 4\n",
    "\n",
    "- Correcting data types\n",
    "- Removing duplicates"
   ]
  },
  {
   "cell_type": "markdown",
   "id": "af7b6b12-a72d-4c63-96fe-2b386f997757",
   "metadata": {},
   "source": [
    "### data types"
   ]
  },
  {
   "cell_type": "code",
   "execution_count": null,
   "id": "3003d1f3-6ed8-4c50-9444-267a70246de0",
   "metadata": {},
   "outputs": [],
   "source": [
    "data.dtypes"
   ]
  },
  {
   "cell_type": "code",
   "execution_count": null,
   "id": "aa5a767b-bd52-4b46-bfaf-e65400094c7f",
   "metadata": {},
   "outputs": [],
   "source": [
    "data._get_numeric_data()"
   ]
  },
  {
   "cell_type": "code",
   "execution_count": null,
   "id": "d8044398-1d2c-493f-820a-7734f9a8c238",
   "metadata": {},
   "outputs": [],
   "source": [
    "data._get_bool_data()"
   ]
  },
  {
   "cell_type": "code",
   "execution_count": null,
   "id": "83c08fde-bef0-4f8f-acf9-a7520f8e6481",
   "metadata": {},
   "outputs": [],
   "source": [
    "data.select_dtypes('object')"
   ]
  },
  {
   "cell_type": "markdown",
   "id": "e31e7f36-1cce-465c-9317-003adfcbf63b",
   "metadata": {},
   "source": [
    "###  correcting data types"
   ]
  },
  {
   "cell_type": "code",
   "execution_count": null,
   "id": "82071412-d2c7-4516-b23b-3112d3fa4eb8",
   "metadata": {},
   "outputs": [],
   "source": [
    "# will this work? why/why not?\n",
    "pd.to_numeric(data['median_home_val'])"
   ]
  },
  {
   "cell_type": "code",
   "execution_count": null,
   "id": "6a6c8181-750d-4327-b480-9bf727c5453a",
   "metadata": {},
   "outputs": [],
   "source": [
    "data['median_home_val'] =  pd.to_numeric(data['median_home_val'], errors='coerce')"
   ]
  },
  {
   "cell_type": "code",
   "execution_count": null,
   "id": "567e4e53-7d51-46a1-9dae-056b8bf51d2d",
   "metadata": {},
   "outputs": [],
   "source": [
    "data"
   ]
  },
  {
   "cell_type": "code",
   "execution_count": null,
   "id": "08234c17-b7ff-431d-a68c-13d062f5b1db",
   "metadata": {},
   "outputs": [],
   "source": [
    "data['ic5'] =  pd.to_numeric(data['ic5'], errors='coerce')"
   ]
  },
  {
   "cell_type": "code",
   "execution_count": null,
   "id": "fd0a8dde-1467-424a-adca-03b7133abe9d",
   "metadata": {},
   "outputs": [],
   "source": [
    "data._get_numeric_data() # to check if 'median_home_val' and 'ic5' are now listed as numeric data"
   ]
  },
  {
   "cell_type": "markdown",
   "id": "6d6be95e-30d1-4490-94d1-17d92d671bb3",
   "metadata": {},
   "source": [
    "### Removing duplicates"
   ]
  },
  {
   "cell_type": "code",
   "execution_count": null,
   "id": "ac852119-4d88-4460-b546-3129cbe8a106",
   "metadata": {},
   "outputs": [],
   "source": [
    "# Removing duplicates\n",
    "data = data.drop_duplicates()  # play around with the code, show them how to use keep argument"
   ]
  },
  {
   "cell_type": "code",
   "execution_count": null,
   "id": "e57cb230-cdcb-4065-ba90-e83a441ebb12",
   "metadata": {},
   "outputs": [],
   "source": [
    "data"
   ]
  },
  {
   "cell_type": "code",
   "execution_count": null,
   "id": "4d0c0232-0f41-489c-95b5-460b977ee640",
   "metadata": {},
   "outputs": [],
   "source": [
    "# temp = temp.drop_duplicates(subset=['state','gender', 'ic2', 'ic3'])\n",
    "# if we want to remove duplicates based on some specific columns"
   ]
  }
 ],
 "metadata": {
  "kernelspec": {
   "display_name": "Python 3",
   "language": "python",
   "name": "python3"
  },
  "language_info": {
   "codemirror_mode": {
    "name": "ipython",
    "version": 3
   },
   "file_extension": ".py",
   "mimetype": "text/x-python",
   "name": "python",
   "nbconvert_exporter": "python",
   "pygments_lexer": "ipython3",
   "version": "3.8.2"
  }
 },
 "nbformat": 4,
 "nbformat_minor": 5
}
