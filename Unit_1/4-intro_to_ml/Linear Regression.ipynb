{
 "cells": [
  {
   "cell_type": "markdown",
   "metadata": {},
   "source": [
    "## Linear Regression\n",
    "The most basic Machine Learning model. Easy to interpret and very useful. [Here](https://balavenkatesh.medium.com/ten-minutes-to-learn-linear-regression-for-dummies-5469038f4781) is an intermediat read about it."
   ]
  },
  {
   "cell_type": "code",
   "execution_count": 3,
   "metadata": {},
   "outputs": [],
   "source": [
    "import pandas as pd\n",
    "from sklearn.linear_model import LinearRegression\n",
    "from sklearn.metrics import mean_squared_error, r2_score\n",
    "import statsmodels.api as sm\n",
    "from statsmodels.formula.api import ols\n",
    "import seaborn as sns\n",
    "import warnings\n",
    "warnings.filterwarnings('ignore') "
   ]
  },
  {
   "cell_type": "code",
   "execution_count": 2,
   "metadata": {},
   "outputs": [
    {
     "data": {
      "text/html": [
       "<div>\n",
       "<style scoped>\n",
       "    .dataframe tbody tr th:only-of-type {\n",
       "        vertical-align: middle;\n",
       "    }\n",
       "\n",
       "    .dataframe tbody tr th {\n",
       "        vertical-align: top;\n",
       "    }\n",
       "\n",
       "    .dataframe thead th {\n",
       "        text-align: right;\n",
       "    }\n",
       "</style>\n",
       "<table border=\"1\" class=\"dataframe\">\n",
       "  <thead>\n",
       "    <tr style=\"text-align: right;\">\n",
       "      <th></th>\n",
       "      <th>HV1</th>\n",
       "      <th>IC1</th>\n",
       "      <th>IC2</th>\n",
       "      <th>IC3</th>\n",
       "      <th>IC4</th>\n",
       "      <th>IC5</th>\n",
       "      <th>AVGGIFT</th>\n",
       "      <th>TARGET_D</th>\n",
       "    </tr>\n",
       "  </thead>\n",
       "  <tbody>\n",
       "    <tr>\n",
       "      <th>0</th>\n",
       "      <td>2346</td>\n",
       "      <td>420</td>\n",
       "      <td>446</td>\n",
       "      <td>468</td>\n",
       "      <td>503</td>\n",
       "      <td>14552</td>\n",
       "      <td>15.500000</td>\n",
       "      <td>21.0</td>\n",
       "    </tr>\n",
       "    <tr>\n",
       "      <th>1</th>\n",
       "      <td>497</td>\n",
       "      <td>350</td>\n",
       "      <td>364</td>\n",
       "      <td>357</td>\n",
       "      <td>384</td>\n",
       "      <td>11696</td>\n",
       "      <td>3.080000</td>\n",
       "      <td>3.0</td>\n",
       "    </tr>\n",
       "    <tr>\n",
       "      <th>2</th>\n",
       "      <td>1229</td>\n",
       "      <td>469</td>\n",
       "      <td>502</td>\n",
       "      <td>507</td>\n",
       "      <td>544</td>\n",
       "      <td>17313</td>\n",
       "      <td>7.500000</td>\n",
       "      <td>20.0</td>\n",
       "    </tr>\n",
       "    <tr>\n",
       "      <th>3</th>\n",
       "      <td>325</td>\n",
       "      <td>148</td>\n",
       "      <td>181</td>\n",
       "      <td>171</td>\n",
       "      <td>209</td>\n",
       "      <td>6334</td>\n",
       "      <td>6.700000</td>\n",
       "      <td>5.0</td>\n",
       "    </tr>\n",
       "    <tr>\n",
       "      <th>4</th>\n",
       "      <td>768</td>\n",
       "      <td>174</td>\n",
       "      <td>201</td>\n",
       "      <td>220</td>\n",
       "      <td>249</td>\n",
       "      <td>7802</td>\n",
       "      <td>8.785714</td>\n",
       "      <td>10.0</td>\n",
       "    </tr>\n",
       "  </tbody>\n",
       "</table>\n",
       "</div>"
      ],
      "text/plain": [
       "    HV1  IC1  IC2  IC3  IC4    IC5    AVGGIFT  TARGET_D\n",
       "0  2346  420  446  468  503  14552  15.500000      21.0\n",
       "1   497  350  364  357  384  11696   3.080000       3.0\n",
       "2  1229  469  502  507  544  17313   7.500000      20.0\n",
       "3   325  148  181  171  209   6334   6.700000       5.0\n",
       "4   768  174  201  220  249   7802   8.785714      10.0"
      ]
     },
     "execution_count": 2,
     "metadata": {},
     "output_type": "execute_result"
    }
   ],
   "source": [
    "data = pd.read_csv('regression_data1.csv')\n",
    "data.head()"
   ]
  },
  {
   "cell_type": "markdown",
   "metadata": {},
   "source": [
    "The linear model has the formula:\n",
    "* y = a * X + b\n",
    "<br>\n",
    "\n",
    "#### Where:\n",
    "b is the 'intercept': where the regression line crosses the y axis;<br>\n",
    "a is the 'coeficient': it's what your model will calculate;<br>\n",
    "X is a value from a columns."
   ]
  },
  {
   "cell_type": "code",
   "execution_count": 14,
   "metadata": {},
   "outputs": [
    {
     "name": "stdout",
     "output_type": "stream",
     "text": [
      "                            OLS Regression Results                            \n",
      "==============================================================================\n",
      "Dep. Variable:               TARGET_D   R-squared:                       0.272\n",
      "Model:                            OLS   Adj. R-squared:                  0.271\n",
      "Method:                 Least Squares   F-statistic:                     258.2\n",
      "Date:                Wed, 20 Jan 2021   Prob (F-statistic):               0.00\n",
      "Time:                        20:56:52   Log-Likelihood:                -18313.\n",
      "No. Observations:                4843   AIC:                         3.664e+04\n",
      "Df Residuals:                    4835   BIC:                         3.669e+04\n",
      "Df Model:                           7                                         \n",
      "Covariance Type:            nonrobust                                         \n",
      "==============================================================================\n",
      "                 coef    std err          t      P>|t|      [0.025      0.975]\n",
      "------------------------------------------------------------------------------\n",
      "const          6.2092      0.503     12.346      0.000       5.223       7.195\n",
      "HV1         9.693e-05      0.000      0.417      0.677      -0.000       0.001\n",
      "IC1           -0.0020      0.007     -0.306      0.759      -0.015       0.011\n",
      "IC2         9.846e-05      0.006      0.017      0.986      -0.011       0.011\n",
      "IC3           -0.0022      0.009     -0.248      0.804      -0.020       0.015\n",
      "IC4            0.0067      0.008      0.895      0.371      -0.008       0.021\n",
      "IC5         3.092e-05   3.56e-05      0.869      0.385   -3.88e-05       0.000\n",
      "AVGGIFT        0.6211      0.015     40.799      0.000       0.591       0.651\n",
      "==============================================================================\n",
      "Omnibus:                     3372.304   Durbin-Watson:                   2.061\n",
      "Prob(Omnibus):                  0.000   Jarque-Bera (JB):          4377337.881\n",
      "Skew:                           1.854   Prob(JB):                         0.00\n",
      "Kurtosis:                     150.237   Cond. No.                     6.29e+04\n",
      "==============================================================================\n",
      "\n",
      "Notes:\n",
      "[1] Standard Errors assume that the covariance matrix of the errors is correctly specified.\n",
      "[2] The condition number is large, 6.29e+04. This might indicate that there are\n",
      "strong multicollinearity or other numerical problems.\n"
     ]
    }
   ],
   "source": [
    "X = data.drop(['TARGET_D'], axis=1)\n",
    "y = data['TARGET_D']\n",
    "\n",
    "# with 'add_constant' we force the model to have an intercept\n",
    "X = sm.add_constant(X)\n",
    "\n",
    "model = sm.OLS(y,X).fit() # to train the model\n",
    "\n",
    "print(model.summary())"
   ]
  },
  {
   "cell_type": "code",
   "execution_count": 6,
   "metadata": {},
   "outputs": [],
   "source": [
    "# sklearn's LR model\n",
    "\n",
    "X = data.drop(['TARGET_D'], axis=1) # watch out, rookie mistake, don't use your target to train the model\n",
    "y = data['TARGET_D'] # what you'll want to predict\n",
    "\n",
    "lm = LinearRegression() # start the model object\n",
    "model = lm.fit(X,y) # fit your regression line / train the model\n",
    "# lm.coef_ # lm.intercept_"
   ]
  },
  {
   "cell_type": "code",
   "execution_count": 27,
   "metadata": {},
   "outputs": [
    {
     "name": "stdout",
     "output_type": "stream",
     "text": [
      "R2_score: 0.27\n",
      "RMSE: 10.616662758427262\n"
     ]
    }
   ],
   "source": [
    "# evaluating sklearn's LR model\n",
    "\n",
    "predictions = lm.predict(X) # predict some values\n",
    "\n",
    "rmse = mean_squared_error(y, predictions, squared=False) # or mse with squared=True\n",
    "# r2 gives you an overall estimate of how good the model is, between 0 (lowest) and 1 (highest)\n",
    "# rmse, good to see if the errors are big, the values returnes are in the unit of the target\n",
    "print(\"R2_score:\", round(lm.score(X,y),2)) # or r2_score(Y, predictions)\n",
    "print(\"RMSE:\", rmse)"
   ]
  },
  {
   "cell_type": "code",
   "execution_count": null,
   "metadata": {},
   "outputs": [],
   "source": [
    "# Analyzing results\n",
    "\n",
    "# hint: to analyse your results, it might be a good idea to add your predictions to your dataframe\n"
   ]
  },
  {
   "cell_type": "code",
   "execution_count": 60,
   "metadata": {},
   "outputs": [
    {
     "data": {
      "text/plain": [
       "<AxesSubplot:xlabel='IC1', ylabel='TARGET_D'>"
      ]
     },
     "execution_count": 60,
     "metadata": {},
     "output_type": "execute_result"
    },
    {
     "data": {
      "image/png": "[encoded data removed]",
      "text/plain": [
       "<Figure size 432x288 with 1 Axes>"
      ]
     },
     "metadata": {
      "needs_background": "light"
     },
     "output_type": "display_data"
    }
   ],
   "source": [
    "sns.regplot(X['IC1'], y, line_kws={\"color\": \"red\"})"
   ]
  },
  {
   "cell_type": "code",
   "execution_count": 64,
   "metadata": {},
   "outputs": [
    {
     "data": {
      "text/plain": [
       "<AxesSubplot:xlabel='TARGET_D'>"
      ]
     },
     "execution_count": 64,
     "metadata": {},
     "output_type": "execute_result"
    },
    {
     "data": {
      "image/png": "[encoded data removed]",
      "text/plain": [
       "<Figure size 432x288 with 1 Axes>"
      ]
     },
     "metadata": {
      "needs_background": "light"
     },
     "output_type": "display_data"
    }
   ],
   "source": [
    "sns.scatterplot(y,predictions)"
   ]
  },
  {
   "cell_type": "code",
   "execution_count": 65,
   "metadata": {},
   "outputs": [
    {
     "data": {
      "text/plain": [
       "<AxesSubplot:xlabel='TARGET_D', ylabel='TARGET_D'>"
      ]
     },
     "execution_count": 65,
     "metadata": {},
     "output_type": "execute_result"
    },
    {
     "data": {
      "image/png": "[encoded data removed]",
      "text/plain": [
       "<Figure size 432x288 with 1 Axes>"
      ]
     },
     "metadata": {
      "needs_background": "light"
     },
     "output_type": "display_data"
    }
   ],
   "source": [
    "residuals = y - predictions\n",
    "sns.residplot(y,residuals)"
   ]
  },
  {
   "cell_type": "markdown",
   "metadata": {},
   "source": [
    "### Assumptions behind [linear regression](https://www.jmp.com/en_us/statistics-knowledge-portal/what-is-regression/simple-linear-regression-assumptions.html) "
   ]
  },
  {
   "cell_type": "code",
   "execution_count": null,
   "metadata": {},
   "outputs": [],
   "source": []
  }
 ],
 "metadata": {
  "kernelspec": {
   "display_name": "Python 3",
   "language": "python",
   "name": "python3"
  },
  "language_info": {
   "codemirror_mode": {
    "name": "ipython",
    "version": 3
   },
   "file_extension": ".py",
   "mimetype": "text/x-python",
   "name": "python",
   "nbconvert_exporter": "python",
   "pygments_lexer": "ipython3",
   "version": "3.8.2"
  }
 },
 "nbformat": 4,
 "nbformat_minor": 4
}
