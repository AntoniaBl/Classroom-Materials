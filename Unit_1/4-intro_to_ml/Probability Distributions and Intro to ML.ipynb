{
 "cells": [
  {
   "cell_type": "markdown",
   "metadata": {},
   "source": [
    "## Probability Distributions\n",
    "A probability distribution depicts the expected outcomes of possible values for a given data generating process. It's the possible values a variable can take and how frequent they occur.\n",
    "#### Some Important Concepts\n",
    "* Population (your dataset + all) vs. Sample (your dataset - if not exhaustive);\n",
    "* Type of data: \n",
    "![pic](https://useruploads.socratic.org/X0k4bPR8i39MDjuWxqwc_hqdefault.jpg)\n",
    "<br>\n",
    "\n",
    "#### Some Types of Probability Distribution:\n",
    "* Normal distribution (continuous)\n",
    "* Bernoulli distribution (discrete)\n",
    "* Binomial distribution\n",
    "* Uniform distribution\n",
    "* Poisson distribution\n",
    "<br><br>\n",
    "Light read about probability distributions [here](https://medium.com/@codingpilot25/five-probability-distribution-every-data-scientist-should-learn-da79d57472a2)<br>\n",
    "Dense read about probabilility density function [here](https://machinelearningmastery.com/probability-density-estimation/)\n",
    "###  Normal Distributions"
   ]
  },
  {
   "cell_type": "code",
   "execution_count": null,
   "metadata": {},
   "outputs": [],
   "source": [
    "# pip install scikit-learn\n",
    "# pip install scipy"
   ]
  },
  {
   "cell_type": "code",
   "execution_count": 1,
   "metadata": {},
   "outputs": [],
   "source": [
    "import numpy as np\n",
    "from scipy.stats import norm\n",
    "import matplotlib.pyplot as plt\n",
    "import seaborn as sns\n",
    "import warnings\n",
    "warnings.filterwarnings('ignore') "
   ]
  },
  {
   "cell_type": "code",
   "execution_count": 10,
   "metadata": {},
   "outputs": [],
   "source": [
    "x = np.random.randn(10000) # random numbers that obey a standard normal distribution"
   ]
  },
  {
   "cell_type": "code",
   "execution_count": 15,
   "metadata": {},
   "outputs": [
    {
     "data": {
      "text/plain": [
       "array([ 0.67295212, -0.93432062, -1.21979748, ..., -0.72698493,\n",
       "        1.79224657,  2.03900223])"
      ]
     },
     "execution_count": 15,
     "metadata": {},
     "output_type": "execute_result"
    }
   ],
   "source": [
    "x"
   ]
  },
  {
   "cell_type": "code",
   "execution_count": 11,
   "metadata": {},
   "outputs": [
    {
     "data": {
      "image/png": "[encoded data removed]",
      "text/plain": [
       "<Figure size 432x288 with 1 Axes>"
      ]
     },
     "metadata": {
      "needs_background": "light"
     },
     "output_type": "display_data"
    }
   ],
   "source": [
    "sns.distplot(x)\n",
    "plt.show()"
   ]
  },
  {
   "cell_type": "code",
   "execution_count": 58,
   "metadata": {},
   "outputs": [
    {
     "data": {
      "text/plain": [
       "0.00876415024678427"
      ]
     },
     "execution_count": 58,
     "metadata": {},
     "output_type": "execute_result"
    }
   ],
   "source": [
    "normal = norm(5, 2) # initiate normal distribution object\n",
    "normal.pdf(0) # the probability of being a zero"
   ]
  },
  {
   "cell_type": "code",
   "execution_count": 63,
   "metadata": {},
   "outputs": [
    {
     "data": {
      "text/plain": [
       "0.06680720126885807"
      ]
     },
     "execution_count": 63,
     "metadata": {},
     "output_type": "execute_result"
    }
   ],
   "source": [
    "# Emperical Rule: 68%, 95%, 99.7%\n",
    "normal.cdf(2) # cumulative function (probability of being 2 or less)"
   ]
  },
  {
   "cell_type": "code",
   "execution_count": 60,
   "metadata": {},
   "outputs": [
    {
     "data": {
      "text/plain": [
       "array([ 6.66896929,  5.72604551,  8.726283  ,  7.06652134,  5.23126003,\n",
       "        3.93613317,  8.03876963,  3.84925601,  5.07920823,  5.46003725,\n",
       "        4.365219  ,  0.36752553,  5.19176064,  7.87239108,  6.22855733,\n",
       "        6.14756478,  0.5574394 ,  4.76117448,  3.94037937,  1.78246828,\n",
       "        6.884267  ,  3.99896763,  5.18671118,  7.29326747,  3.97299888,\n",
       "        2.67850749,  3.69353847,  4.54524845,  3.23296098,  3.24508902,\n",
       "        7.00633305,  7.14728228,  5.88488712,  1.25417817,  4.23275141,\n",
       "        6.65456244,  3.31000283,  1.86331226,  5.689436  ,  6.98368293,\n",
       "        6.33753633,  2.14830142,  0.2938153 ,  8.85875364,  3.98132495,\n",
       "        3.99911769,  7.8009502 ,  3.88404905,  5.79218523,  7.63812237,\n",
       "        4.79408197,  3.02669584,  7.63148505,  5.85412661,  3.65213692,\n",
       "        4.65719836,  4.74501712,  6.37755961,  5.44326874,  3.68268001,\n",
       "        5.16671507,  6.598255  ,  4.77486596,  3.26667946,  3.35016707,\n",
       "        4.31713375,  5.51188383,  4.81056165, 11.30684883,  4.91673454,\n",
       "        4.8639283 ,  2.44336421,  8.60903788,  7.67677165,  7.00177812,\n",
       "        3.64598422,  4.78261225,  1.06665413,  5.87060047,  6.12803087,\n",
       "        4.866053  ,  5.93397982,  5.52245564,  6.82577095,  5.19284925,\n",
       "        6.23180663,  7.49683956,  7.03315273,  7.95488872,  4.5910965 ,\n",
       "        1.65777828,  4.37766176,  6.27743459,  5.80614286,  7.38325906,\n",
       "        7.22991055,  5.07016285,  2.96870932,  3.06089725,  5.37873244,\n",
       "        4.91768463,  1.66993907,  7.99155689,  3.14856718,  4.01931476,\n",
       "        1.43008073,  2.23139092,  8.23696405,  4.02018979,  8.0299716 ,\n",
       "        6.65895812,  3.9204905 ,  5.30297109,  8.39981936,  3.39744083,\n",
       "        2.64447329,  5.74245409,  0.7794597 ,  3.04096051,  4.99522739,\n",
       "        6.23148636,  5.07647234,  5.27305904,  3.34165887,  8.02780189,\n",
       "        3.62417253,  2.88199301,  2.71512565,  4.26169867,  8.65284615,\n",
       "        5.54769625,  6.13634834,  7.90635217,  3.58980143,  3.26053524,\n",
       "        3.1890602 ,  4.91527261,  4.66794527,  6.1758081 ,  3.81527992,\n",
       "        5.38755334,  5.71327139,  3.77852689,  2.61565054,  2.70881545,\n",
       "        4.78320278,  5.12151647,  3.78507722,  5.50056505,  4.64679456,\n",
       "        5.53294617,  4.97722222,  5.51111621,  2.52957304,  2.38667499,\n",
       "        5.41759643,  5.35423707,  2.55820972,  3.08747386,  6.33855345,\n",
       "        5.64349601,  4.51146833,  5.13239489,  5.1790579 ,  6.2132827 ,\n",
       "        4.81124822,  6.6588749 ,  5.39854306,  6.17528175,  6.32899209,\n",
       "        3.81286267,  9.70819967,  2.84785817,  4.76451208,  3.5835015 ,\n",
       "        6.64368115,  4.65870176,  9.01007986,  5.53058623,  3.4858534 ,\n",
       "        8.09541056,  6.91041696,  6.0838118 ,  3.60648224,  7.27392568,\n",
       "        2.92231523,  6.91278199,  3.45252622,  3.7958868 ,  6.72896349,\n",
       "        4.52122885,  6.9598195 ,  4.34911683,  4.46161746,  7.58515218,\n",
       "        3.72526861,  6.20342239,  6.08570514,  6.38361399,  4.10452492,\n",
       "        8.3425289 ,  6.39140686,  9.41296048,  7.63507493,  6.51741954,\n",
       "        1.84140018,  7.89840062,  3.56836175,  6.39906842,  4.39911599,\n",
       "        4.86464699,  4.74961901,  1.92122683,  1.25313364,  4.93506373,\n",
       "        4.15399699,  0.52715341,  5.38893762,  8.23160784,  6.22953894,\n",
       "        5.68069359,  5.2054201 ,  7.96142058,  5.4371108 ,  8.36841264,\n",
       "        4.14338449,  3.80302286,  8.24349061,  5.636775  ,  5.05320408,\n",
       "        2.48588092,  3.67133276, 10.36371151,  7.90448598,  6.06655212,\n",
       "        5.47982944,  5.72680289,  6.13575975,  4.05751119, -0.27927818,\n",
       "        5.78555709,  7.52965796,  3.64545997,  4.44762449,  5.24633052,\n",
       "        6.01008096,  0.53493505,  6.71867992,  3.44455942,  2.66114233,\n",
       "        3.8150346 ,  1.45020247,  6.06536684,  5.93934895,  6.88267272,\n",
       "        2.50585796,  4.0568312 ,  6.0132148 ,  4.2696209 ,  3.89356252,\n",
       "        4.96319475,  2.6629411 ,  6.70529173,  8.34310202,  7.5758718 ,\n",
       "        9.95487327,  2.39503727,  3.69418199,  8.01018315,  4.18256956,\n",
       "        6.66159574,  4.11414749,  8.38641478, -0.81655858,  2.8530167 ,\n",
       "        5.8593607 ,  5.26994419,  2.66647167,  6.20763806,  5.1319431 ,\n",
       "        1.21338646,  5.23719381,  4.58222333,  2.36706387,  6.03502646,\n",
       "        5.68091299,  5.54579717,  3.29477931,  8.89918514,  4.80241373,\n",
       "        6.32488049,  3.85326706,  5.7530248 ,  4.22832862,  5.80534566,\n",
       "        5.16420725,  4.26554338, -0.34086424,  1.8547645 ,  5.47593665,\n",
       "        4.52855621,  6.95443213,  4.97265351,  6.20319638,  4.9932909 ,\n",
       "        0.73156206,  7.69327287,  4.89642568,  6.39278246,  7.24916568,\n",
       "        4.12374544,  5.58619766,  4.46458837,  3.40557694,  2.22716199,\n",
       "        5.32353673,  2.60883906,  6.389585  ,  7.02758371,  6.06412401,\n",
       "        4.5409064 ,  6.68747586,  4.27832506,  8.44730013,  6.69818913,\n",
       "        6.789213  ,  3.77199796,  6.86750704,  6.61504011,  5.08045621,\n",
       "        6.26671613,  3.97845498,  5.42304464,  1.06513971,  1.68700707,\n",
       "        6.27201832,  8.50079796,  4.41863773,  5.82560359,  3.74376042,\n",
       "        3.36940696,  1.70092063,  5.76059456,  4.11330412,  6.16201248,\n",
       "        3.76410409,  1.69869573,  4.5803652 ,  4.80027163,  8.17227211,\n",
       "        9.0621613 , -0.72989534,  6.2854884 ,  4.03066675,  5.79892506,\n",
       "        5.66279649,  4.88530882,  6.39871926,  4.47127342,  5.65235831,\n",
       "        6.05018358,  2.6492515 ,  5.72502195,  5.95580942,  3.74337724,\n",
       "        4.03950301,  6.32041716,  4.35172528,  3.77459825,  2.61327193,\n",
       "        2.70493684,  3.83071508,  8.25702204, -1.03432959, 11.51523671,\n",
       "        5.02348185,  4.57968507,  6.91192793,  8.29548999,  4.7233564 ,\n",
       "        5.18656142,  4.97543528,  5.17633707, -0.62684988,  5.50676605,\n",
       "        7.91153001,  5.61121826,  3.77940635,  8.07201994,  9.68798756,\n",
       "        5.22012467,  3.53714052,  3.6222532 ,  7.09435359,  4.26273778,\n",
       "        7.04320886,  4.77424754,  3.64539769,  4.79093101,  4.54702632,\n",
       "        3.83014271,  3.62136968,  4.93488368,  4.63473065,  6.23711907,\n",
       "        7.68473832,  0.57907838,  3.63658264,  6.22851569,  4.58079119,\n",
       "        7.57827026,  6.9087439 ,  5.10521717,  1.58725175,  3.90725418,\n",
       "        7.04059789,  4.35062188,  7.75316709,  4.32150581,  3.93749136,\n",
       "        3.85955116,  7.88174967,  5.52271683,  2.13741127,  6.07144741,\n",
       "        7.09030734,  4.37639017,  0.8772184 ,  2.78268244,  6.18023432,\n",
       "        4.58633337,  6.59689507,  7.56814983,  3.84623041,  5.66406364,\n",
       "        7.33915019,  9.40149114,  0.39616595,  7.34125715,  3.66376749,\n",
       "        7.26666202,  1.20142208,  5.62783479,  5.12643798,  7.45693654,\n",
       "        4.48787298,  4.42737803,  8.88204076,  4.71047309,  5.56391692,\n",
       "        4.28590868,  3.88098565,  4.47658089,  4.35022379,  5.00297914,\n",
       "        3.93285405,  7.80468322,  8.75228868,  6.64964656,  5.54433097,\n",
       "        1.45272488,  5.31412603,  5.61461214,  5.30183349,  4.7710211 ,\n",
       "        6.43583164,  4.59810461,  5.6455912 ,  3.9801181 ,  4.8432023 ,\n",
       "        4.39449724,  3.31216158,  3.36496289,  4.86134105,  3.46850964,\n",
       "        2.16950585,  8.19264909,  2.01441878,  6.23858315,  8.08108232,\n",
       "        3.40964508,  3.92667573,  3.50451652,  7.17120726,  6.31557321,\n",
       "        2.38978956,  4.09674379,  3.57828646,  7.33346728,  3.49689747,\n",
       "        2.87088303,  6.04014518,  5.58365067,  1.28234022,  3.46913895,\n",
       "        5.1719474 ,  7.16302108,  3.80464342,  5.8739032 ,  8.55823336,\n",
       "        6.41849985,  4.44037005,  5.90658944,  1.32208729,  3.28598711,\n",
       "        7.64584658,  3.32395221,  3.83731026,  0.87086529,  4.44353057,\n",
       "        3.47834328,  3.88132907,  4.78016069,  6.53289444,  4.50088419,\n",
       "        5.38373778,  3.54117075,  1.4251998 ,  3.36765108,  2.96719198,\n",
       "        1.93080071,  6.30186017,  5.33724374,  5.81743247,  3.67784064,\n",
       "        5.7461054 ,  4.95889709,  4.39798795,  7.27386414, -0.48680511,\n",
       "        6.67147688,  4.74878018,  6.66315792,  7.19103118,  4.23871436,\n",
       "        1.69144317,  5.51645924,  5.74173516,  2.196954  ,  4.54385377,\n",
       "        5.91252281,  5.28029473,  5.64127114,  4.3706313 ,  2.58856483,\n",
       "        8.80138982,  6.62239212,  6.84706473,  6.02717722,  4.27421592,\n",
       "        6.08675272,  4.87227834,  2.65401956,  1.60514057,  4.8420785 ,\n",
       "        4.31338413,  3.3099337 ,  2.27552287,  6.58961153,  7.50577783,\n",
       "        5.74158767,  1.83449017,  6.0433335 ,  3.08262218,  7.38497885,\n",
       "        6.18596833,  4.06891959,  7.37846152,  5.07416409,  5.40619932,\n",
       "        2.81318773,  3.81131869,  4.33011043,  8.03237189,  4.9206008 ,\n",
       "        4.83417533,  4.51787792,  4.20296504,  4.66852481,  3.35984992,\n",
       "        6.37937501,  4.01149418,  7.70089679,  7.40809439,  3.22045741,\n",
       "        7.37340918,  2.6191747 ,  6.69770109,  3.3113194 ,  4.46453706,\n",
       "        8.69320363,  6.52215868,  6.79299106,  4.92803931,  2.05815049,\n",
       "        5.09218829,  6.25723651,  5.2753213 ,  5.24604699,  4.68288491,\n",
       "        9.24434717,  6.11989661,  5.99538097,  5.59231076,  7.56723085,\n",
       "        7.87711685,  4.33314221,  7.60259495,  2.55553353,  5.04453316,\n",
       "        8.5299623 ,  9.03061424,  5.15701558,  6.59684142,  5.78951521,\n",
       "        6.41049542,  7.69447254,  4.622294  ,  4.76989718,  5.46683501,\n",
       "        6.64025843,  6.26672427,  6.21701132,  7.3017103 ,  6.35338303,\n",
       "        4.97728019,  3.79530482,  4.37477865,  2.69700784,  7.47266648,\n",
       "        4.61758625,  5.98762464,  7.91077659,  8.12408858,  1.88828751,\n",
       "        3.82607571,  4.47879508,  2.8819715 ,  4.09526989,  6.2098158 ,\n",
       "        5.21868369,  5.10253605,  3.55012339,  6.32659992,  7.59409138,\n",
       "        4.12110384,  6.89391996,  7.59082832,  4.83538762,  9.89887943,\n",
       "        4.52297485,  7.70999363,  7.4885803 ,  3.89146919,  2.27349504,\n",
       "        5.90374616,  8.20764309,  3.67782959,  3.10903834,  6.6408442 ,\n",
       "        5.84375299,  5.20667774,  9.03669078,  4.92099107,  1.15635305,\n",
       "        3.50725859,  5.82460551,  5.64660695,  3.04796251,  4.67767927,\n",
       "        7.04858526,  0.70236651,  4.7527464 ,  2.71693266,  5.41164094,\n",
       "        5.19161629,  2.55345473,  6.18409682,  2.29904735,  3.62464832,\n",
       "        7.82897244,  3.85535267,  2.27892416,  8.06569653,  2.47011135,\n",
       "        2.09599605,  2.49032337,  3.80837112,  5.96146493,  6.09965215,\n",
       "        6.38924319,  5.07270267,  6.00818238,  5.0516402 ,  4.30617335,\n",
       "        6.21757754,  6.40080896,  2.47113451,  3.70445234,  8.46690336,\n",
       "        5.57536373,  7.91463948,  6.79600568,  4.48203028,  3.38542   ,\n",
       "        7.25374572,  8.37063419,  5.77692487,  5.5897074 ,  6.54842348,\n",
       "        1.55733481,  6.28392382,  4.38136419,  3.17265254,  6.47931277,\n",
       "        5.0508953 ,  0.51910265,  1.40188812,  6.59869317,  5.72212266,\n",
       "        2.95218371,  8.03878127,  7.50219097,  6.06780215,  5.87133414,\n",
       "        2.40429051,  4.15206766,  6.32895521,  4.73329283,  2.62205844,\n",
       "        2.00799867,  2.56754318,  6.36278261,  5.54059575,  4.74249741,\n",
       "        3.76390108,  8.45072143,  5.42581342,  6.12496454,  2.25258796,\n",
       "        2.64624816,  7.25374458,  4.69375525,  3.75112085,  4.87646211,\n",
       "        4.69915152,  6.74762901,  5.69276316,  6.07477401,  6.02829245,\n",
       "        4.92064133,  3.86154565,  5.08493838,  4.39162815,  6.21276651,\n",
       "        4.33582312,  5.2361687 ,  3.84977203,  7.31008176,  7.36967504,\n",
       "        4.32300409,  4.28169087,  5.33628463,  5.6171021 ,  3.77495843,\n",
       "        8.98727816,  3.37448493,  0.86706215,  6.18697195,  4.48833607,\n",
       "        4.67423037,  4.76692597,  1.30929777,  7.18466326,  4.7859567 ,\n",
       "        1.87464754,  3.44514806,  3.86579493,  7.224528  ,  6.74319236,\n",
       "        3.72408935,  3.65381147,  2.90857365,  5.61810155,  6.27271234,\n",
       "        4.80057841,  1.62915248,  6.15038849,  1.8542418 ,  4.22282732,\n",
       "        5.85133875,  4.7518871 ,  7.77038708,  4.40343236,  5.13448131,\n",
       "        3.94495293,  1.55559581,  5.88042354,  6.08704393,  5.63412195,\n",
       "        8.20615228,  8.12382741,  6.36586688,  4.05324672, -0.84672475,\n",
       "        2.23830531,  5.13429887,  8.66085308,  1.30156882,  5.93661719,\n",
       "        4.93621849,  4.47505865,  8.56879953,  4.26008467,  7.05193608,\n",
       "        4.38427166,  5.06360725,  7.13559646,  4.40413639,  3.16433961,\n",
       "        5.44211404,  5.99565208,  2.73726618,  7.72666448,  4.53323482,\n",
       "        3.74638448,  3.42043603,  7.04901434,  5.31810634,  3.93035349,\n",
       "        5.77954518,  4.40708426,  7.02347913,  2.87332365,  2.45781659,\n",
       "        2.67189798,  1.62252221,  4.22985311,  0.99355914,  4.84320635,\n",
       "        5.67631597,  4.11982986,  5.82839666,  6.73854161,  6.05053676,\n",
       "        0.61106456,  5.33938433,  8.2571298 ,  1.30381494,  4.97843223,\n",
       "       10.0587247 ,  1.59775235,  6.38142722,  3.52373566,  1.49997315,\n",
       "        7.75475566,  4.95519935,  5.5256009 ,  4.65069555,  0.92988955,\n",
       "        4.64725976,  7.16458002,  3.99416905,  3.66441878,  5.48537873,\n",
       "        6.81741036,  8.12101066,  4.52249927,  5.21473419,  6.11838476,\n",
       "        3.16245024,  4.80657895,  3.01845299,  3.80496899,  3.77276334,\n",
       "        4.76607572,  8.29626075,  2.21103459,  6.71172875,  7.33631496,\n",
       "        3.52527535,  5.17446955,  4.74764957,  7.44793078,  8.5424938 ,\n",
       "        4.11614766,  5.04936674,  5.96511826,  2.97312724,  4.51396405,\n",
       "        4.61283971,  4.3155466 ,  2.10778282,  9.30994169,  4.3302275 ,\n",
       "       10.17734325,  4.27859453,  4.63622873,  3.14017129,  4.07266791,\n",
       "        5.45696809,  1.77407304,  9.04384271,  2.82700952,  6.56528884,\n",
       "        7.59058806,  4.75272114,  7.17039689,  1.44879092,  5.54370238,\n",
       "        5.56728607,  5.16285847,  7.00276396,  3.98854694,  7.32109912,\n",
       "        3.97935895,  3.83322789,  3.87923211,  7.7832952 ,  6.54090098,\n",
       "        5.98715949,  3.52390883,  0.16025379,  1.7486341 ,  5.91021481,\n",
       "        5.88187912,  6.48492827,  3.54739329,  8.38755508,  5.81287427,\n",
       "        2.7759694 ,  1.67460958,  9.60314869,  6.41768669,  5.16503634,\n",
       "        6.33212276,  2.04080252,  5.26546053,  3.32830761,  6.63678038,\n",
       "        2.8049933 ,  5.36005406,  3.86306747,  6.29898244,  8.34932365,\n",
       "        3.22606889,  5.96387233,  8.34692171,  7.20954941,  2.24760279,\n",
       "        7.21375669,  3.61239183,  1.61064829,  5.92199872,  4.32545485,\n",
       "        4.34753248,  3.6436634 ,  3.58329168,  4.34373168,  5.339353  ,\n",
       "        4.56019667,  4.50207243, -0.1213999 ,  4.2925949 ,  6.79812545,\n",
       "        3.52867537,  4.23696909,  7.03093527,  6.404519  ,  5.31578497,\n",
       "        6.32909783,  4.72233011,  2.69096887,  1.25838962,  3.25124958,\n",
       "        2.94683234,  2.39049711,  5.8095259 ,  5.63605255,  0.56106525,\n",
       "        6.33749442,  6.70609447,  4.19737568,  7.57349939,  7.5823767 ,\n",
       "        4.19269696,  5.39698978,  2.47446842,  1.84964182, 10.05788537,\n",
       "        9.36289053,  5.51288306,  6.63084738, -0.07336068,  5.83454039,\n",
       "        7.63867754,  5.48881477,  0.60642216,  5.26601054,  6.84089074])"
      ]
     },
     "execution_count": 60,
     "metadata": {},
     "output_type": "execute_result"
    }
   ],
   "source": [
    "normal.rvs(1000) # random value from the normal distribution created"
   ]
  },
  {
   "cell_type": "code",
   "execution_count": 62,
   "metadata": {},
   "outputs": [
    {
     "data": {
      "image/png": "[encoded data removed]",
      "text/plain": [
       "<Figure size 432x288 with 1 Axes>"
      ]
     },
     "metadata": {
      "needs_background": "light"
     },
     "output_type": "display_data"
    }
   ],
   "source": [
    "fig, ax = plt.subplots(1, 1)\n",
    "\n",
    "x = np.linspace(-3,15,1000) # Generating 1000 evenly spaced numbers between -3 and 15.\n",
    "y = normal.pdf(x) # Generating a plot of the 'Normal distribution' using the points in x.\n",
    "\n",
    "ax.plot(x,y)\n",
    "plt.show()"
   ]
  },
  {
   "cell_type": "code",
   "execution_count": null,
   "metadata": {},
   "outputs": [],
   "source": []
  },
  {
   "cell_type": "markdown",
   "metadata": {},
   "source": [
    "![](https://4.bp.blogspot.com/-ZoF_bvkMgt4/V41DQqJppXI/AAAAAAAAEi0/65OpWwOIhfQUO9Otc_bBUIhPZ862Dkq-gCLcB/s1600/resized_elefante_copy.jpg)\n",
    "This is not a normal distribution"
   ]
  },
  {
   "cell_type": "code",
   "execution_count": null,
   "metadata": {},
   "outputs": [],
   "source": []
  }
 ],
 "metadata": {
  "kernelspec": {
   "display_name": "Python 3",
   "language": "python",
   "name": "python3"
  },
  "language_info": {
   "codemirror_mode": {
    "name": "ipython",
    "version": 3
   },
   "file_extension": ".py",
   "mimetype": "text/x-python",
   "name": "python",
   "nbconvert_exporter": "python",
   "pygments_lexer": "ipython3",
   "version": "3.8.2"
  }
 },
 "nbformat": 4,
 "nbformat_minor": 4
}
